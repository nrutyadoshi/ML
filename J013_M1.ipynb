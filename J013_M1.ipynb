{
  "nbformat": 4,
  "nbformat_minor": 0,
  "metadata": {
    "colab": {
      "name": "J013_M1.ipynb",
      "provenance": [],
      "collapsed_sections": [],
      "include_colab_link": true
    },
    "kernelspec": {
      "name": "python3",
      "display_name": "Python 3"
    }
  },
  "cells": [
    {
      "cell_type": "markdown",
      "metadata": {
        "id": "view-in-github",
        "colab_type": "text"
      },
      "source": [
        "<a href=\"https://colab.research.google.com/github/nrutyadoshi/ML/blob/master/J013_M1.ipynb\" target=\"_parent\"><img src=\"https://colab.research.google.com/assets/colab-badge.svg\" alt=\"Open In Colab\"/></a>"
      ]
    },
    {
      "cell_type": "code",
      "metadata": {
        "id": "1QYtwPB0dagO",
        "colab_type": "code",
        "colab": {}
      },
      "source": [
        "from google.colab import files\n",
        "import pandas as pd\n",
        "import numpy as np"
      ],
      "execution_count": 0,
      "outputs": []
    },
    {
      "cell_type": "code",
      "metadata": {
        "id": "WNIrjC6Ld6_8",
        "colab_type": "code",
        "colab": {}
      },
      "source": [
        "upload = files.upload()"
      ],
      "execution_count": 0,
      "outputs": []
    },
    {
      "cell_type": "code",
      "metadata": {
        "id": "DUuk9PrHd91L",
        "colab_type": "code",
        "colab": {}
      },
      "source": [
        "df = pd.read_csv(\"Credit.csv\")"
      ],
      "execution_count": 0,
      "outputs": []
    },
    {
      "cell_type": "code",
      "metadata": {
        "id": "ysH-N5ibekFk",
        "colab_type": "code",
        "colab": {}
      },
      "source": [
        "df.drop([\"Unnamed: 0\"],1,inplace=True)"
      ],
      "execution_count": 0,
      "outputs": []
    },
    {
      "cell_type": "code",
      "metadata": {
        "id": "3COMFMdgfWr9",
        "colab_type": "code",
        "colab": {}
      },
      "source": [
        "from sklearn.preprocessing import MinMaxScaler"
      ],
      "execution_count": 0,
      "outputs": []
    },
    {
      "cell_type": "code",
      "metadata": {
        "id": "VnWYiCAWpyg_",
        "colab_type": "code",
        "colab": {}
      },
      "source": [
        "scaler = MinMaxScaler()"
      ],
      "execution_count": 0,
      "outputs": []
    },
    {
      "cell_type": "code",
      "metadata": {
        "id": "XLDsPjcIXg0K",
        "colab_type": "code",
        "colab": {}
      },
      "source": [
        "from sklearn.preprocessing import LabelEncoder"
      ],
      "execution_count": 0,
      "outputs": []
    },
    {
      "cell_type": "code",
      "metadata": {
        "id": "WNlIyOrgR0cd",
        "colab_type": "code",
        "colab": {}
      },
      "source": [
        "encoder = LabelEncoder()\n",
        "df[\"Gender\"] = encoder.fit_transform(df[\"Gender\"].astype(\"str\"))\n",
        "df[\"Student\"] = encoder.fit_transform(df[\"Student\"].astype(\"str\"))\n",
        "df[\"Married\"] = encoder.fit_transform(df[\"Married\"].astype(\"str\"))\n",
        "df[\"Cards\"] = encoder.fit_transform(df[\"Cards\"].astype(\"str\"))\n",
        "#df[\"Cards\"] = pd.Categorical(df.Cards)"
      ],
      "execution_count": 0,
      "outputs": []
    },
    {
      "cell_type": "code",
      "metadata": {
        "id": "jO13VDrIRUC2",
        "colab_type": "code",
        "colab": {}
      },
      "source": [
        "df = df.join(pd.get_dummies(df[\"Ethnicity\"])) # One hot encoding"
      ],
      "execution_count": 0,
      "outputs": []
    },
    {
      "cell_type": "code",
      "metadata": {
        "id": "kb_RSFXCzUSV",
        "colab_type": "code",
        "colab": {}
      },
      "source": [
        "df.drop([\"Ethnicity\",\"Caucasian\"],1,inplace=True)"
      ],
      "execution_count": 0,
      "outputs": []
    },
    {
      "cell_type": "code",
      "metadata": {
        "id": "u3HuZQW9MM7p",
        "colab_type": "code",
        "outputId": "cd927976-5d59-4c3d-ff63-899e9c3a1fc1",
        "colab": {
          "base_uri": "https://localhost:8080/",
          "height": 196
        }
      },
      "source": [
        "df.head()"
      ],
      "execution_count": 0,
      "outputs": [
        {
          "output_type": "execute_result",
          "data": {
            "text/html": [
              "<div>\n",
              "<style scoped>\n",
              "    .dataframe tbody tr th:only-of-type {\n",
              "        vertical-align: middle;\n",
              "    }\n",
              "\n",
              "    .dataframe tbody tr th {\n",
              "        vertical-align: top;\n",
              "    }\n",
              "\n",
              "    .dataframe thead th {\n",
              "        text-align: right;\n",
              "    }\n",
              "</style>\n",
              "<table border=\"1\" class=\"dataframe\">\n",
              "  <thead>\n",
              "    <tr style=\"text-align: right;\">\n",
              "      <th></th>\n",
              "      <th>Income</th>\n",
              "      <th>Limit</th>\n",
              "      <th>Rating</th>\n",
              "      <th>Cards</th>\n",
              "      <th>Age</th>\n",
              "      <th>Education</th>\n",
              "      <th>Gender</th>\n",
              "      <th>Student</th>\n",
              "      <th>Married</th>\n",
              "      <th>Balance</th>\n",
              "      <th>African American</th>\n",
              "      <th>Asian</th>\n",
              "    </tr>\n",
              "  </thead>\n",
              "  <tbody>\n",
              "    <tr>\n",
              "      <th>0</th>\n",
              "      <td>14.891</td>\n",
              "      <td>3606</td>\n",
              "      <td>283</td>\n",
              "      <td>1</td>\n",
              "      <td>34</td>\n",
              "      <td>11</td>\n",
              "      <td>0</td>\n",
              "      <td>0</td>\n",
              "      <td>1</td>\n",
              "      <td>333</td>\n",
              "      <td>0</td>\n",
              "      <td>0</td>\n",
              "    </tr>\n",
              "    <tr>\n",
              "      <th>1</th>\n",
              "      <td>106.025</td>\n",
              "      <td>6645</td>\n",
              "      <td>483</td>\n",
              "      <td>2</td>\n",
              "      <td>82</td>\n",
              "      <td>15</td>\n",
              "      <td>1</td>\n",
              "      <td>1</td>\n",
              "      <td>1</td>\n",
              "      <td>903</td>\n",
              "      <td>0</td>\n",
              "      <td>1</td>\n",
              "    </tr>\n",
              "    <tr>\n",
              "      <th>2</th>\n",
              "      <td>104.593</td>\n",
              "      <td>7075</td>\n",
              "      <td>514</td>\n",
              "      <td>3</td>\n",
              "      <td>71</td>\n",
              "      <td>11</td>\n",
              "      <td>0</td>\n",
              "      <td>0</td>\n",
              "      <td>0</td>\n",
              "      <td>580</td>\n",
              "      <td>0</td>\n",
              "      <td>1</td>\n",
              "    </tr>\n",
              "    <tr>\n",
              "      <th>3</th>\n",
              "      <td>148.924</td>\n",
              "      <td>9504</td>\n",
              "      <td>681</td>\n",
              "      <td>2</td>\n",
              "      <td>36</td>\n",
              "      <td>11</td>\n",
              "      <td>1</td>\n",
              "      <td>0</td>\n",
              "      <td>0</td>\n",
              "      <td>964</td>\n",
              "      <td>0</td>\n",
              "      <td>1</td>\n",
              "    </tr>\n",
              "    <tr>\n",
              "      <th>4</th>\n",
              "      <td>55.882</td>\n",
              "      <td>4897</td>\n",
              "      <td>357</td>\n",
              "      <td>1</td>\n",
              "      <td>68</td>\n",
              "      <td>16</td>\n",
              "      <td>0</td>\n",
              "      <td>0</td>\n",
              "      <td>1</td>\n",
              "      <td>331</td>\n",
              "      <td>0</td>\n",
              "      <td>0</td>\n",
              "    </tr>\n",
              "  </tbody>\n",
              "</table>\n",
              "</div>"
            ],
            "text/plain": [
              "    Income  Limit  Rating  Cards  ...  Married  Balance  African American  Asian\n",
              "0   14.891   3606     283      1  ...        1      333                 0      0\n",
              "1  106.025   6645     483      2  ...        1      903                 0      1\n",
              "2  104.593   7075     514      3  ...        0      580                 0      1\n",
              "3  148.924   9504     681      2  ...        0      964                 0      1\n",
              "4   55.882   4897     357      1  ...        1      331                 0      0\n",
              "\n",
              "[5 rows x 12 columns]"
            ]
          },
          "metadata": {
            "tags": []
          },
          "execution_count": 72
        }
      ]
    },
    {
      "cell_type": "code",
      "metadata": {
        "id": "JeYKLgpG6ZuN",
        "colab_type": "code",
        "colab": {}
      },
      "source": [
        "X = df.drop([\"Balance\"],1)\n",
        "Y = df[\"Balance\"]"
      ],
      "execution_count": 0,
      "outputs": []
    },
    {
      "cell_type": "code",
      "metadata": {
        "id": "x8fYov426K3G",
        "colab_type": "code",
        "colab": {}
      },
      "source": [
        "from sklearn.model_selection import train_test_split as tts"
      ],
      "execution_count": 0,
      "outputs": []
    },
    {
      "cell_type": "code",
      "metadata": {
        "id": "SxdE7So46K8S",
        "colab_type": "code",
        "colab": {}
      },
      "source": [
        "X_train, X_test, Y_train, Y_test = tts(X,Y,test_size=0.3,random_state=42)"
      ],
      "execution_count": 0,
      "outputs": []
    },
    {
      "cell_type": "code",
      "metadata": {
        "id": "XrutFlp76kUb",
        "colab_type": "code",
        "colab": {}
      },
      "source": [
        "train = pd.concat([X_train, Y_train],1)\n",
        "test = pd.concat([X_test, Y_test],1)"
      ],
      "execution_count": 0,
      "outputs": []
    },
    {
      "cell_type": "code",
      "metadata": {
        "id": "Fr-qxMslDCho",
        "colab_type": "code",
        "outputId": "98d1cc0e-b282-4f12-a927-73a9ce49d90c",
        "colab": {
          "base_uri": "https://localhost:8080/",
          "height": 196
        }
      },
      "source": [
        "train.head()"
      ],
      "execution_count": 0,
      "outputs": [
        {
          "output_type": "execute_result",
          "data": {
            "text/html": [
              "<div>\n",
              "<style scoped>\n",
              "    .dataframe tbody tr th:only-of-type {\n",
              "        vertical-align: middle;\n",
              "    }\n",
              "\n",
              "    .dataframe tbody tr th {\n",
              "        vertical-align: top;\n",
              "    }\n",
              "\n",
              "    .dataframe thead th {\n",
              "        text-align: right;\n",
              "    }\n",
              "</style>\n",
              "<table border=\"1\" class=\"dataframe\">\n",
              "  <thead>\n",
              "    <tr style=\"text-align: right;\">\n",
              "      <th></th>\n",
              "      <th>Income</th>\n",
              "      <th>Limit</th>\n",
              "      <th>Rating</th>\n",
              "      <th>Cards</th>\n",
              "      <th>Age</th>\n",
              "      <th>Education</th>\n",
              "      <th>Gender</th>\n",
              "      <th>Student</th>\n",
              "      <th>Married</th>\n",
              "      <th>African American</th>\n",
              "      <th>Asian</th>\n",
              "      <th>Balance</th>\n",
              "    </tr>\n",
              "  </thead>\n",
              "  <tbody>\n",
              "    <tr>\n",
              "      <th>157</th>\n",
              "      <td>56.256</td>\n",
              "      <td>5521</td>\n",
              "      <td>406</td>\n",
              "      <td>1</td>\n",
              "      <td>72</td>\n",
              "      <td>16</td>\n",
              "      <td>1</td>\n",
              "      <td>1</td>\n",
              "      <td>1</td>\n",
              "      <td>0</td>\n",
              "      <td>0</td>\n",
              "      <td>1020</td>\n",
              "    </tr>\n",
              "    <tr>\n",
              "      <th>109</th>\n",
              "      <td>13.561</td>\n",
              "      <td>3261</td>\n",
              "      <td>279</td>\n",
              "      <td>4</td>\n",
              "      <td>37</td>\n",
              "      <td>19</td>\n",
              "      <td>0</td>\n",
              "      <td>0</td>\n",
              "      <td>1</td>\n",
              "      <td>0</td>\n",
              "      <td>1</td>\n",
              "      <td>297</td>\n",
              "    </tr>\n",
              "    <tr>\n",
              "      <th>17</th>\n",
              "      <td>36.496</td>\n",
              "      <td>4378</td>\n",
              "      <td>339</td>\n",
              "      <td>2</td>\n",
              "      <td>69</td>\n",
              "      <td>15</td>\n",
              "      <td>1</td>\n",
              "      <td>0</td>\n",
              "      <td>1</td>\n",
              "      <td>0</td>\n",
              "      <td>1</td>\n",
              "      <td>368</td>\n",
              "    </tr>\n",
              "    <tr>\n",
              "      <th>347</th>\n",
              "      <td>160.231</td>\n",
              "      <td>10748</td>\n",
              "      <td>754</td>\n",
              "      <td>1</td>\n",
              "      <td>69</td>\n",
              "      <td>17</td>\n",
              "      <td>0</td>\n",
              "      <td>0</td>\n",
              "      <td>0</td>\n",
              "      <td>0</td>\n",
              "      <td>0</td>\n",
              "      <td>1192</td>\n",
              "    </tr>\n",
              "    <tr>\n",
              "      <th>24</th>\n",
              "      <td>10.742</td>\n",
              "      <td>1757</td>\n",
              "      <td>156</td>\n",
              "      <td>2</td>\n",
              "      <td>57</td>\n",
              "      <td>15</td>\n",
              "      <td>1</td>\n",
              "      <td>0</td>\n",
              "      <td>0</td>\n",
              "      <td>0</td>\n",
              "      <td>0</td>\n",
              "      <td>0</td>\n",
              "    </tr>\n",
              "  </tbody>\n",
              "</table>\n",
              "</div>"
            ],
            "text/plain": [
              "      Income  Limit  Rating  Cards  ...  Married  African American  Asian  Balance\n",
              "157   56.256   5521     406      1  ...        1                 0      0     1020\n",
              "109   13.561   3261     279      4  ...        1                 0      1      297\n",
              "17    36.496   4378     339      2  ...        1                 0      1      368\n",
              "347  160.231  10748     754      1  ...        0                 0      0     1192\n",
              "24    10.742   1757     156      2  ...        0                 0      0        0\n",
              "\n",
              "[5 rows x 12 columns]"
            ]
          },
          "metadata": {
            "tags": []
          },
          "execution_count": 77
        }
      ]
    },
    {
      "cell_type": "code",
      "metadata": {
        "id": "N7NqdBwqN8lk",
        "colab_type": "code",
        "colab": {}
      },
      "source": [
        "train_scale = pd.DataFrame(scaler.fit_transform(train),columns = train.columns)\n",
        "test_scale = pd.DataFrame(scaler.fit_transform(test),columns = test.columns)"
      ],
      "execution_count": 0,
      "outputs": []
    },
    {
      "cell_type": "code",
      "metadata": {
        "id": "IiWkeJiPOBaX",
        "colab_type": "code",
        "outputId": "4d2f2857-28c4-4b72-e47c-cc9116a2eabc",
        "colab": {
          "base_uri": "https://localhost:8080/",
          "height": 196
        }
      },
      "source": [
        "train_scale.head()"
      ],
      "execution_count": 0,
      "outputs": [
        {
          "output_type": "execute_result",
          "data": {
            "text/html": [
              "<div>\n",
              "<style scoped>\n",
              "    .dataframe tbody tr th:only-of-type {\n",
              "        vertical-align: middle;\n",
              "    }\n",
              "\n",
              "    .dataframe tbody tr th {\n",
              "        vertical-align: top;\n",
              "    }\n",
              "\n",
              "    .dataframe thead th {\n",
              "        text-align: right;\n",
              "    }\n",
              "</style>\n",
              "<table border=\"1\" class=\"dataframe\">\n",
              "  <thead>\n",
              "    <tr style=\"text-align: right;\">\n",
              "      <th></th>\n",
              "      <th>Income</th>\n",
              "      <th>Limit</th>\n",
              "      <th>Rating</th>\n",
              "      <th>Cards</th>\n",
              "      <th>Age</th>\n",
              "      <th>Education</th>\n",
              "      <th>Gender</th>\n",
              "      <th>Student</th>\n",
              "      <th>Married</th>\n",
              "      <th>African American</th>\n",
              "      <th>Asian</th>\n",
              "      <th>Balance</th>\n",
              "    </tr>\n",
              "  </thead>\n",
              "  <tbody>\n",
              "    <tr>\n",
              "      <th>0</th>\n",
              "      <td>0.260393</td>\n",
              "      <td>0.357329</td>\n",
              "      <td>0.344710</td>\n",
              "      <td>0.125</td>\n",
              "      <td>0.648649</td>\n",
              "      <td>0.714286</td>\n",
              "      <td>1.0</td>\n",
              "      <td>1.0</td>\n",
              "      <td>1.0</td>\n",
              "      <td>0.0</td>\n",
              "      <td>0.0</td>\n",
              "      <td>0.510255</td>\n",
              "    </tr>\n",
              "    <tr>\n",
              "      <th>1</th>\n",
              "      <td>0.018193</td>\n",
              "      <td>0.184255</td>\n",
              "      <td>0.200228</td>\n",
              "      <td>0.500</td>\n",
              "      <td>0.175676</td>\n",
              "      <td>0.928571</td>\n",
              "      <td>0.0</td>\n",
              "      <td>0.0</td>\n",
              "      <td>1.0</td>\n",
              "      <td>0.0</td>\n",
              "      <td>1.0</td>\n",
              "      <td>0.148574</td>\n",
              "    </tr>\n",
              "    <tr>\n",
              "      <th>2</th>\n",
              "      <td>0.148298</td>\n",
              "      <td>0.269796</td>\n",
              "      <td>0.268487</td>\n",
              "      <td>0.250</td>\n",
              "      <td>0.608108</td>\n",
              "      <td>0.642857</td>\n",
              "      <td>1.0</td>\n",
              "      <td>0.0</td>\n",
              "      <td>1.0</td>\n",
              "      <td>0.0</td>\n",
              "      <td>1.0</td>\n",
              "      <td>0.184092</td>\n",
              "    </tr>\n",
              "    <tr>\n",
              "      <th>3</th>\n",
              "      <td>0.850221</td>\n",
              "      <td>0.757620</td>\n",
              "      <td>0.740614</td>\n",
              "      <td>0.125</td>\n",
              "      <td>0.608108</td>\n",
              "      <td>0.785714</td>\n",
              "      <td>0.0</td>\n",
              "      <td>0.0</td>\n",
              "      <td>0.0</td>\n",
              "      <td>0.0</td>\n",
              "      <td>0.0</td>\n",
              "      <td>0.596298</td>\n",
              "    </tr>\n",
              "    <tr>\n",
              "      <th>4</th>\n",
              "      <td>0.002201</td>\n",
              "      <td>0.069076</td>\n",
              "      <td>0.060296</td>\n",
              "      <td>0.250</td>\n",
              "      <td>0.445946</td>\n",
              "      <td>0.642857</td>\n",
              "      <td>1.0</td>\n",
              "      <td>0.0</td>\n",
              "      <td>0.0</td>\n",
              "      <td>0.0</td>\n",
              "      <td>0.0</td>\n",
              "      <td>0.000000</td>\n",
              "    </tr>\n",
              "  </tbody>\n",
              "</table>\n",
              "</div>"
            ],
            "text/plain": [
              "     Income     Limit    Rating  ...  African American  Asian   Balance\n",
              "0  0.260393  0.357329  0.344710  ...               0.0    0.0  0.510255\n",
              "1  0.018193  0.184255  0.200228  ...               0.0    1.0  0.148574\n",
              "2  0.148298  0.269796  0.268487  ...               0.0    1.0  0.184092\n",
              "3  0.850221  0.757620  0.740614  ...               0.0    0.0  0.596298\n",
              "4  0.002201  0.069076  0.060296  ...               0.0    0.0  0.000000\n",
              "\n",
              "[5 rows x 12 columns]"
            ]
          },
          "metadata": {
            "tags": []
          },
          "execution_count": 79
        }
      ]
    },
    {
      "cell_type": "code",
      "metadata": {
        "id": "ccVHbHmFBmLk",
        "colab_type": "code",
        "colab": {}
      },
      "source": [
        "X_train = train_scale.drop([\"Balance\"],1)\n",
        "Y_train = train_scale[\"Balance\"]\n",
        "X_test = test_scale.drop([\"Balance\"],1)\n",
        "Y_test = test_scale[\"Balance\"]"
      ],
      "execution_count": 0,
      "outputs": []
    },
    {
      "cell_type": "code",
      "metadata": {
        "id": "VmvCaTa6K0qg",
        "colab_type": "code",
        "outputId": "e49d6e7c-4042-4a00-9952-9f85d53a7afc",
        "colab": {
          "base_uri": "https://localhost:8080/",
          "height": 33
        }
      },
      "source": [
        "X_train.shape"
      ],
      "execution_count": 0,
      "outputs": [
        {
          "output_type": "execute_result",
          "data": {
            "text/plain": [
              "(280, 11)"
            ]
          },
          "metadata": {
            "tags": []
          },
          "execution_count": 81
        }
      ]
    },
    {
      "cell_type": "code",
      "metadata": {
        "id": "UH99nd4wlxQ9",
        "colab_type": "code",
        "colab": {}
      },
      "source": [
        "import statsmodels.api as sm"
      ],
      "execution_count": 0,
      "outputs": []
    },
    {
      "cell_type": "code",
      "metadata": {
        "id": "pk8Ma3GFl4lF",
        "colab_type": "code",
        "outputId": "7b435539-aaa0-4e85-b6c5-94ee9fc7984c",
        "colab": {
          "base_uri": "https://localhost:8080/",
          "height": 70
        }
      },
      "source": [
        "cols = X_train.columns.to_list()\n",
        "pmax = 1\n",
        "while (len(cols)>0):\n",
        "    p= []\n",
        "    X_1 = X_train[cols]\n",
        "    X_1 = sm.add_constant(X_1)\n",
        "    model = sm.OLS(Y_train,X_train).fit()\n",
        "    #p = pd.Series(model.pvalues.values[0:],index = cols)      \n",
        "    #pmax = max(p)\n",
        "    #feature_with_p_max = p.idxmax() # returns index of max p value\n",
        "    if(pmax>0.05):\n",
        "        cols.remove(feature_with_p_max)\n",
        "    else:\n",
        "        break\n",
        "selected_features_BE = cols\n",
        "print(selected_features_BE)"
      ],
      "execution_count": 0,
      "outputs": [
        {
          "output_type": "stream",
          "text": [
            "/usr/local/lib/python3.6/dist-packages/numpy/core/fromnumeric.py:2389: FutureWarning: Method .ptp is deprecated and will be removed in a future version. Use numpy.ptp instead.\n",
            "  return ptp(axis=axis, out=out, **kwargs)\n"
          ],
          "name": "stderr"
        }
      ]
    },
    {
      "cell_type": "code",
      "metadata": {
        "id": "rRCDOujemD0m",
        "colab_type": "code",
        "colab": {}
      },
      "source": [
        "model.summary()"
      ],
      "execution_count": 0,
      "outputs": []
    },
    {
      "cell_type": "code",
      "metadata": {
        "id": "RWF7KzsPpG6H",
        "colab_type": "code",
        "colab": {}
      },
      "source": [
        "X = df_final[selected_features_BE]"
      ],
      "execution_count": 0,
      "outputs": []
    },
    {
      "cell_type": "code",
      "metadata": {
        "id": "-mMMb08TbWnA",
        "colab_type": "code",
        "colab": {}
      },
      "source": [
        "from sklearn.linear_model import LinearRegression\n",
        "from sklearn.metrics import r2_score"
      ],
      "execution_count": 0,
      "outputs": []
    },
    {
      "cell_type": "code",
      "metadata": {
        "id": "dscEnSXRorQ0",
        "colab_type": "code",
        "colab": {}
      },
      "source": [
        ""
      ],
      "execution_count": 0,
      "outputs": []
    },
    {
      "cell_type": "code",
      "metadata": {
        "id": "9EWoW7Jvn8rk",
        "colab_type": "code",
        "colab": {}
      },
      "source": [
        "reg = LinearRegression()\n",
        "linear = reg.fit(X_train,Y_train)\n",
        "Y_pred = linear.predict(X_test)"
      ],
      "execution_count": 0,
      "outputs": []
    },
    {
      "cell_type": "code",
      "metadata": {
        "id": "-JsOSkCbn_2u",
        "colab_type": "code",
        "outputId": "ec5f338d-1a41-43f1-f475-7099fb1e64f2",
        "colab": {
          "base_uri": "https://localhost:8080/",
          "height": 33
        }
      },
      "source": [
        "print(r2_score(Y_test,Y_pred))"
      ],
      "execution_count": 0,
      "outputs": [
        {
          "output_type": "stream",
          "text": [
            "0.9512075865767012\n"
          ],
          "name": "stdout"
        }
      ]
    },
    {
      "cell_type": "code",
      "metadata": {
        "id": "MLFs8pbvrkwr",
        "colab_type": "code",
        "outputId": "16bca9bb-319b-49c2-deac-29339f4815c1",
        "colab": {
          "base_uri": "https://localhost:8080/",
          "height": 33
        }
      },
      "source": [
        "linear.intercept_"
      ],
      "execution_count": 0,
      "outputs": [
        {
          "output_type": "execute_result",
          "data": {
            "text/plain": [
              "-266.92177130208995"
            ]
          },
          "metadata": {
            "tags": []
          },
          "execution_count": 28
        }
      ]
    },
    {
      "cell_type": "code",
      "metadata": {
        "id": "XBT44TZJsea1",
        "colab_type": "code",
        "outputId": "34c1f128-b7ff-435e-9d12-913072f1a95d",
        "colab": {
          "base_uri": "https://localhost:8080/",
          "height": 84
        }
      },
      "source": [
        "linear.coef_"
      ],
      "execution_count": 0,
      "outputs": [
        {
          "output_type": "execute_result",
          "data": {
            "text/plain": [
              "array([   9.72791749,   -9.72791749, -208.7374536 ,  208.7374536 ,\n",
              "          0.66143092,   -0.66143092,   -9.39694162,    3.84511944,\n",
              "          5.55182218,   -7.54192364,    0.22185   ,    0.60851245,\n",
              "         21.90990342,   -0.55031829])"
            ]
          },
          "metadata": {
            "tags": []
          },
          "execution_count": 29
        }
      ]
    },
    {
      "cell_type": "code",
      "metadata": {
        "id": "z1wrQFKwSsws",
        "colab_type": "code",
        "colab": {}
      },
      "source": [
        "from sklearn.neighbors import KNeighborsRegressor"
      ],
      "execution_count": 0,
      "outputs": []
    },
    {
      "cell_type": "code",
      "metadata": {
        "id": "Is3Rk3rNStFh",
        "colab_type": "code",
        "colab": {}
      },
      "source": [
        "knn = KNeighborsRegressor()\n",
        "knn_reg = knn.fit(X_train,Y_train)\n",
        "Y_pred2 = knn_reg.predict(X_test)"
      ],
      "execution_count": 0,
      "outputs": []
    },
    {
      "cell_type": "code",
      "metadata": {
        "id": "6ibhGq_xStn2",
        "colab_type": "code",
        "outputId": "85c1713c-bc88-49a7-dda7-bf8a5b4168ee",
        "colab": {
          "base_uri": "https://localhost:8080/",
          "height": 33
        }
      },
      "source": [
        "print(r2_score(Y_test,Y_pred2))"
      ],
      "execution_count": 0,
      "outputs": [
        {
          "output_type": "stream",
          "text": [
            "0.5168309146768737\n"
          ],
          "name": "stdout"
        }
      ]
    },
    {
      "cell_type": "code",
      "metadata": {
        "id": "jWXaprbksncl",
        "colab_type": "code",
        "colab": {}
      },
      "source": [
        "from sklearn.linear_model import RANSACRegressor"
      ],
      "execution_count": 0,
      "outputs": []
    },
    {
      "cell_type": "code",
      "metadata": {
        "id": "SZImeA6Ut81H",
        "colab_type": "code",
        "colab": {}
      },
      "source": [
        "ransac = RANSACRegressor()\n",
        "ran = ransac.fit(X_train,Y_train)\n",
        "Y_pred1 = ran.predict(X_test)"
      ],
      "execution_count": 0,
      "outputs": []
    },
    {
      "cell_type": "code",
      "metadata": {
        "id": "qDOpQjz2yV_w",
        "colab_type": "code",
        "outputId": "2a561b2a-d53c-4aa6-abee-69d706575c9b",
        "colab": {
          "base_uri": "https://localhost:8080/",
          "height": 33
        }
      },
      "source": [
        "print(r2_score(Y_test,Y_pred1))"
      ],
      "execution_count": 0,
      "outputs": [
        {
          "output_type": "stream",
          "text": [
            "0.9514110035326987\n"
          ],
          "name": "stdout"
        }
      ]
    },
    {
      "cell_type": "code",
      "metadata": {
        "id": "3JVznnbvKnFG",
        "colab_type": "code",
        "colab": {}
      },
      "source": [
        "from sklearn.linear_model import ElasticNet"
      ],
      "execution_count": 0,
      "outputs": []
    },
    {
      "cell_type": "code",
      "metadata": {
        "id": "ZvHZYLmWKnKL",
        "colab_type": "code",
        "colab": {}
      },
      "source": [
        "elastic=ElasticNet(normalize=True)\n",
        "search=GridSearchCV(estimator=elastic,param_grid={'alpha':np.logspace(-5,2,8),'l1_ratio':[.2,.4,.6,.8]},scoring='neg_mean_squared_error',n_jobs=1,refit=True,cv=10)"
      ],
      "execution_count": 0,
      "outputs": []
    },
    {
      "cell_type": "code",
      "metadata": {
        "id": "NYz2xCnYKS9D",
        "colab_type": "code",
        "colab": {}
      },
      "source": [
        "from sklearn.model_selection import GridSearchCV"
      ],
      "execution_count": 0,
      "outputs": []
    },
    {
      "cell_type": "code",
      "metadata": {
        "id": "GMCYRKrDKS_M",
        "colab_type": "code",
        "colab": {}
      },
      "source": [
        "import numpy as np\n",
        "params = {\"n_neighbors\":np.arange(2,14,1), \n",
        "         \"metric\":[\"euclidean\", \"minkowski\", \"jaccard\", \"cosine\"]}"
      ],
      "execution_count": 0,
      "outputs": []
    },
    {
      "cell_type": "code",
      "metadata": {
        "id": "vYxyFP02KTB9",
        "colab_type": "code",
        "colab": {}
      },
      "source": [
        "knn_cv = GridSearchCV(elastic, param_grid=params, cv = 10)"
      ],
      "execution_count": 0,
      "outputs": []
    },
    {
      "cell_type": "code",
      "metadata": {
        "id": "oh0GIxAIKTDy",
        "colab_type": "code",
        "colab": {}
      },
      "source": [
        "from sklearn.linear_model import ElasticNetCV,ElasticNet # ERROR\n",
        "from sklearn.model_selection import GridSearchCV"
      ],
      "execution_count": 0,
      "outputs": []
    },
    {
      "cell_type": "code",
      "metadata": {
        "id": "FvS_73gvKTGU",
        "colab_type": "code",
        "colab": {}
      },
      "source": [
        "elastinet = ElasticNetCV(l1_ratio=[.1, .5, .7, .9, .95, .99, 1],cv=5)\n",
        "parametersGrid = {\"max_iter\": [1, 5, 10],\n",
        "                      \"alpha\": [0.0001, 0.001, 0.01, 0.1, 1, 10, 100],\n",
        "                      \"l1_ratio\": np.arange(0.0, 1.0, 0.1)}"
      ],
      "execution_count": 0,
      "outputs": []
    },
    {
      "cell_type": "code",
      "metadata": {
        "id": "apFnJm5qKTIR",
        "colab_type": "code",
        "colab": {}
      },
      "source": [
        "eNet = ElasticNet()\n",
        "grid = GridSearchCV(eNet, parametersGrid, scoring='r2', cv=10)\n",
        "grid.fit(X_train,y_train)\n",
        "grid.best_params_"
      ],
      "execution_count": 0,
      "outputs": []
    }
  ]
}